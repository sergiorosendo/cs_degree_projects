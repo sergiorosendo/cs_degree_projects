{
 "cells": [
  {
   "cell_type": "markdown",
   "metadata": {},
   "source": [
    "# MNIST Dataset #\n",
    "\n",
    "Famoso conjunto de imagens de dígidos manuscritos, dividido em $60000$ imagens de treinamento e $10000$ imagens de teste. Todas as imagens são em escala de cinza com tamanho $28 \\times 28$. Existem 10 classes, correspondentes aos dígitos de 0 a 9.\n",
    "\n",
    "Este dataset está disponível em diversos lugares. Abaixo, vamos usar a versão disponível na biblioteca Keras [1]. Informações adicionais estão disponíveis no [site oficial](http://yann.lecun.com/exdb/mnist/)."
   ]
  },
  {
   "cell_type": "code",
   "execution_count": 113,
   "metadata": {},
   "outputs": [
    {
     "name": "stdout",
     "output_type": "stream",
     "text": [
      "(60000, 28, 28) (60000,)\n",
      "(10000, 28, 28) (10000,)\n"
     ]
    }
   ],
   "source": [
    "from keras.datasets import mnist\n",
    "\n",
    "(x_train, y_train), (x_test, y_test) = mnist.load_data()\n",
    "\n",
    "print(x_train.shape, y_train.shape)\n",
    "print(x_test.shape, y_test.shape)"
   ]
  },
  {
   "cell_type": "markdown",
   "metadata": {},
   "source": [
    "Vamos visualizar algumas das imagens"
   ]
  },
  {
   "cell_type": "code",
   "execution_count": 114,
   "metadata": {},
   "outputs": [
    {
     "name": "stdout",
     "output_type": "stream",
     "text": [
      "label: 5\n",
      "label: 0\n",
      "label: 4\n",
      "label: 1\n",
      "label: 9\n",
      "label: 2\n"
     ]
    },
    {
     "data": {
      "image/png": "[encoded data removed]",
      "text/plain": [
       "<Figure size 1296x864 with 6 Axes>"
      ]
     },
     "metadata": {
      "needs_background": "light"
     },
     "output_type": "display_data"
    }
   ],
   "source": [
    "import matplotlib.pyplot as plt\n",
    "%matplotlib inline\n",
    "\n",
    "fig, ax = plt.subplots(2, 3, figsize = (18, 12))\n",
    "\n",
    "for i in range(6):\n",
    "    ax[i//3, i%3].imshow(x_train[i], cmap='gray')\n",
    "    ax[i//3, i%3].axis('off')\n",
    "    print('label:', y_train[i])\n",
    "    \n",
    "plt.show()"
   ]
  },
  {
   "cell_type": "markdown",
   "metadata": {},
   "source": [
    "## Pixels $\\rightarrow$ Features ##\n",
    "\n",
    "Agora, aplicamos as funções descritas anteriormente sobre as imagens do MNIST. Note que, na forma de imagens, os dados são representados por $28 \\times 28 = 784$ atributos."
   ]
  },
  {
   "cell_type": "code",
   "execution_count": 115,
   "metadata": {},
   "outputs": [
    {
     "name": "stdout",
     "output_type": "stream",
     "text": [
      "(60000, 784)\n",
      "(10000, 784)\n"
     ]
    }
   ],
   "source": [
    "import numpy as np\n",
    "from sklearn.preprocessing import normalize\n",
    "\n",
    "\n",
    "# Aplica a conversão a todas as entradas do dataset\n",
    "x_train_features = np.array([image.flatten() for image in x_train])\n",
    "x_test_features  = np.array([image.flatten() for image in x_test])\n",
    "\n",
    "x_train_features = normalize(x_train_features, axis = 0, copy = True).ravel()\n",
    "x_test_features =  normalize(x_test_features, axis = 0, copy = True).ravel()\n",
    "\n",
    "x_train_features = x_train_features.reshape((60000, 784))\n",
    "x_test_features = x_test_features.reshape((10000, 784))\n",
    "\n",
    "print(x_train_features.shape)\n",
    "print(x_test_features.shape)"
   ]
  },
  {
   "cell_type": "markdown",
   "metadata": {},
   "source": [
    "# Selecionando os dados #\n",
    "\n",
    "Da mesma forma que o exemplo do livro, vamos nos concentrar em identificar os dígitos $0$, $1$, $2$, $3$ e $4$. Vamos juntar os dados com labels 0, 1, 2, 3 e 4, e embaralhar a ordem."
   ]
  },
  {
   "cell_type": "code",
   "execution_count": 116,
   "metadata": {},
   "outputs": [
    {
     "name": "stdout",
     "output_type": "stream",
     "text": [
      "(2500, 784) (2500,)\n",
      "(5139, 784) (5139,)\n"
     ]
    }
   ],
   "source": [
    "# Antes de mais nada, definir a seed aleatória como uma constante,\n",
    "# de forma que todos os experimentos obtenham o mesmo resultado\n",
    "np.random.seed(56789)\n",
    "\n",
    "x_train_0 = x_train_features[y_train == 0]\n",
    "x_train_1 = x_train_features[y_train == 1]\n",
    "x_train_2 = x_train_features[y_train == 2]\n",
    "x_train_3 = x_train_features[y_train == 3]\n",
    "x_train_4 = x_train_features[y_train == 4]\n",
    "y_train_0 = y_train[y_train == 0]\n",
    "y_train_1 = y_train[y_train == 1]\n",
    "y_train_2 = y_train[y_train == 2]\n",
    "y_train_3 = y_train[y_train == 3]\n",
    "y_train_4 = y_train[y_train == 4]\n",
    "\n",
    "x_test_0 = x_test_features[y_test == 0]\n",
    "x_test_1 = x_test_features[y_test == 1]\n",
    "x_test_2 = x_test_features[y_test == 2]\n",
    "x_test_3 = x_test_features[y_test == 3]\n",
    "x_test_4 = x_test_features[y_test == 4]\n",
    "y_test_0 = y_test[y_test == 0]\n",
    "y_test_1 = y_test[y_test == 1]\n",
    "y_test_2 = y_test[y_test == 2]\n",
    "y_test_3 = y_test[y_test == 3]\n",
    "y_test_4 = y_test[y_test == 4]\n",
    "\n",
    "def shuffle(X, y):\n",
    "    # Com cuidado para embaralhar a entrada e a saída da mesma forma\n",
    "    perm = np.random.permutation(len(X))\n",
    "    return X[perm], y[perm]\n",
    "\n",
    "def shuffleTakeN(X, y, n):\n",
    "    X, y = shuffle(X, y)\n",
    "    return X[0:n, :], y[0:n]\n",
    "\n",
    "x_train_0, y_train_0 = shuffleTakeN(x_train_0, y_train_0, 500)\n",
    "x_train_1, y_train_1 = shuffleTakeN(x_train_1, y_train_1, 500)\n",
    "x_train_2, y_train_2 = shuffleTakeN(x_train_2, y_train_2, 500)\n",
    "x_train_3, y_train_3 = shuffleTakeN(x_train_3, y_train_3, 500)\n",
    "x_train_4, y_train_4 = shuffleTakeN(x_train_4, y_train_4, 500)\n",
    "\n",
    "x_train_features = np.concatenate([x_train_0, x_train_1, x_train_2, x_train_3, x_train_4], axis = 0)\n",
    "y_train = np.concatenate([y_train_0, y_train_1, y_train_2, y_train_3, y_train_4], axis = 0).astype('float32')\n",
    "\n",
    "x_test_features = np.concatenate([x_test_0, x_test_1, x_test_2, x_test_3, x_test_4], axis = 0)\n",
    "y_test = np.concatenate([y_test_0, y_test_1, y_test_2, y_test_3, y_test_4], axis = 0).astype('float32')\n",
    "\n",
    "x_train_features, y_train = shuffle(x_train_features, y_train)\n",
    "\n",
    "print(x_train_features.shape, y_train.shape)\n",
    "print(x_test_features.shape, y_test.shape)"
   ]
  },
  {
   "cell_type": "markdown",
   "metadata": {},
   "source": [
    "## SVM ##\n",
    "\n",
    "O primeiro algoritmo avaliado será o SVM disponivel scikit-learn."
   ]
  },
  {
   "cell_type": "code",
   "execution_count": 117,
   "metadata": {},
   "outputs": [
    {
     "name": "stdout",
     "output_type": "stream",
     "text": [
      "Cross SVM:\n",
      "\n",
      "Fold de validação: Quantidade de exemplos de cada classe; Acurácia\n",
      "Fold 1: {0: 102, 1: 79, 2: 109, 3: 110, 4: 100}; Acurácia = 0.9320\n",
      "Fold 2: {0: 107, 1: 105, 2: 105, 3: 88, 4: 95}; Acurácia = 0.9360\n",
      "Fold 3: {0: 115, 1: 97, 2: 87, 3: 106, 4: 95}; Acurácia = 0.9280\n",
      "Fold 4: {0: 74, 1: 99, 2: 111, 3: 110, 4: 106}; Acurácia = 0.9580\n",
      "Fold 5: {0: 102, 1: 120, 2: 88, 3: 86, 4: 104}; Acurácia = 0.9600\n",
      "\n",
      "Acurácia Média - SVM: 0.9428\n"
     ]
    }
   ],
   "source": [
    "from sklearn import svm\n",
    "import collections\n",
    "\n",
    "def accuracy(pred, y):\n",
    "    correct = 0\n",
    "    for i in range(len(pred)):\n",
    "        if (pred[i] == y[i]):\n",
    "            correct += 1\n",
    "    return correct/len(pred)\n",
    "\n",
    "def avg(lst):\n",
    "    return sum(lst)/len(lst)\n",
    "\n",
    "def cross_svm(X, Y):\n",
    "    \n",
    "    x = [X[0:500], X[500:1000], X[1000:1500], X[1500:2000], X[2000:2500]]\n",
    "    y = [Y[0:500], Y[500:1000], Y[1000:1500], Y[1500:2000], Y[2000:2500]]\n",
    "    \n",
    "    acc_svm = []\n",
    "    \n",
    "    clf = svm.SVC(C = 25.0, gamma = 0.45)\n",
    "        \n",
    "    print(\"Cross SVM:\\n\")\n",
    "    \n",
    "    for fold in range(5):\n",
    "        x_train = np.concatenate([x[i] for i in range(len(x)) if i != fold], axis = 0)  \n",
    "        y_train = np.concatenate([y[i] for i in range(len(y)) if i != fold], axis = 0).astype('float32')\n",
    "        \n",
    "        x_validation = x[fold]\n",
    "        y_validation = y[fold]\n",
    "            \n",
    "        #svm\n",
    "        clf.fit(x_train, y_train)\n",
    "        pred = clf.predict(x_validation)    \n",
    "        acc = accuracy(pred, y_validation)\n",
    "        acc_svm.append(acc)\n",
    "\n",
    "        #imprime os dados de cada fold\n",
    "        if fold == 0:\n",
    "            print(\"Fold de validação: Quantidade de exemplos de cada classe; Acurácia\")\n",
    "        \n",
    "        count_0 = np.count_nonzero(y_validation == 0)\n",
    "        count_1 = np.count_nonzero(y_validation == 1)\n",
    "        count_2 = np.count_nonzero(y_validation == 2)\n",
    "        count_3 = np.count_nonzero(y_validation == 3)\n",
    "        count_4 = np.count_nonzero(y_validation == 4)\n",
    "        \n",
    "        print(\"Fold %d: \" % (fold + 1) + \"{0: %d, 1: %d, 2: %d, 3: %d, 4: %d}\" % (count_0, count_1, count_2, count_3, count_4) \n",
    "              + \"; Acurácia = %.4f\" % acc)\n",
    "        \n",
    "    return avg(acc_svm)\n",
    "\n",
    "acc_svm = cross_svm(x_train_features, y_train)\n",
    "\n",
    "print(\"\\nAcurácia Média - SVM: \" + \"%.4f\" % acc_svm)\n"
   ]
  },
  {
   "cell_type": "markdown",
   "metadata": {},
   "source": [
    "## MLP ##\n",
    "\n",
    "O segundo algoritmo avaliado será a rede neural do tipo MLP, disponível no scikit-learn."
   ]
  },
  {
   "cell_type": "code",
   "execution_count": 118,
   "metadata": {},
   "outputs": [
    {
     "name": "stdout",
     "output_type": "stream",
     "text": [
      "Cross MLP:\n",
      "\n",
      "Fold de validação - Quantidade de exemplos de cada classe - Acurácia\n",
      "Fold 1: {0: 102, 1: 79, 2: 109, 3: 110, 4: 100}; Acurácia = 0.6900\n",
      "Fold 2: {0: 107, 1: 105, 2: 105, 3: 88, 4: 95}; Acurácia = 0.8520\n",
      "Fold 3: {0: 115, 1: 97, 2: 87, 3: 106, 4: 95}; Acurácia = 0.6780\n",
      "Fold 4: {0: 74, 1: 99, 2: 111, 3: 110, 4: 106}; Acurácia = 0.6840\n",
      "Fold 5: {0: 102, 1: 120, 2: 88, 3: 86, 4: 104}; Acurácia = 0.7220\n",
      "\n",
      "Acurácia Média - MLP: 0.7252\n"
     ]
    }
   ],
   "source": [
    "from sklearn.neural_network import MLPClassifier\n",
    "import collections\n",
    "\n",
    "def cross_mlp(X, Y):\n",
    "    \n",
    "    x = [X[0:500], X[500:1000], X[1000:1500], X[1500:2000], X[2000:2500]]\n",
    "    y = [Y[0:500], Y[500:1000], Y[1000:1500], Y[1500:2000], Y[2000:2500]]\n",
    "    \n",
    "    acc_mlp = []\n",
    "    \n",
    "    dlf = MLPClassifier(solver='lbfgs', alpha=1e-6, hidden_layer_sizes=(2, 5),random_state=1)\n",
    "    \n",
    "    print(\"Cross MLP:\\n\")\n",
    "    \n",
    "    for fold in range(5):\n",
    "        x_train = np.concatenate([x[i] for i in range(len(x)) if i != fold], axis = 0)  \n",
    "        y_train = np.concatenate([y[i] for i in range(len(y)) if i != fold], axis = 0).astype('float32')\n",
    "        \n",
    "        x_validation = x[fold]\n",
    "        y_validation = y[fold]\n",
    "                    \n",
    "        #mlp        \n",
    "        dlf.fit(x_train, y_train)\n",
    "        pred = dlf.predict(x_validation)\n",
    "        acc = accuracy(pred, y_validation)\n",
    "        acc_mlp.append(acc)\n",
    "        \n",
    "        #imprime os dados de cada fold\n",
    "        if fold == 0:\n",
    "            print(\"Fold de validação - Quantidade de exemplos de cada classe - Acurácia\")\n",
    "        \n",
    "        count_0 = np.count_nonzero(y_validation == 0)\n",
    "        count_1 = np.count_nonzero(y_validation == 1)\n",
    "        count_2 = np.count_nonzero(y_validation == 2)\n",
    "        count_3 = np.count_nonzero(y_validation == 3)\n",
    "        count_4 = np.count_nonzero(y_validation == 4)\n",
    "        \n",
    "        print(\"Fold %d: \" % (fold + 1) + \"{0: %d, 1: %d, 2: %d, 3: %d, 4: %d}\" % (count_0, count_1, count_2, count_3, count_4) \n",
    "              + \"; Acurácia = %.4f\" % acc)        \n",
    "        \n",
    "    return avg(acc_mlp) \n",
    "\n",
    "acc_mlp = cross_mlp(x_train_features, y_train)\n",
    "print(\"\\nAcurácia Média - MLP: \" + \"%.4f\" % acc_mlp)\n"
   ]
  },
  {
   "cell_type": "markdown",
   "metadata": {},
   "source": [
    "## Teste Final ##\n",
    "\n",
    "Agora escolhemos o algoritmo com melhor desempenho no cross-validation e o treinamos sobre o cojunto de treinamento completo."
   ]
  },
  {
   "cell_type": "code",
   "execution_count": 119,
   "metadata": {},
   "outputs": [
    {
     "name": "stdout",
     "output_type": "stream",
     "text": [
      "Acurácias Médias sobre o conjunto de treinamento:\n",
      "Cross SVM = 0.9428, Cross MLP = 0.7252\n",
      "\n",
      "Acurácia final com SVM sobre o conjunto de teste = 0.9624\n"
     ]
    }
   ],
   "source": [
    "print(\"Acurácias Médias sobre o conjunto de treinamento:\\nCross SVM = \"  + \"%.4f\" % acc_svm + \", Cross MLP = \" + \"%.4f\" % acc_mlp + \"\\n\")\n",
    "\n",
    "if acc_svm > acc_mlp:\n",
    "    clf = svm.SVC(C = 25.0, gamma = 0.45)\n",
    "    clf.fit(x_train_features, y_train)\n",
    "    pred = clf.predict(x_test_features)    \n",
    "    acc = accuracy(pred, y_test)\n",
    "    print(\"Acurácia final com SVM sobre o conjunto de teste = \" + \"%.4f\" % acc)\n",
    "else:\n",
    "    dlf = MLPClassifier(solver='lbfgs', alpha=1e-6, hidden_layer_sizes=(2, 5),random_state=1)\n",
    "    dlf.fit(x_train_features, y_train)\n",
    "    pred = dlf.predict(x_test_features)  \n",
    "    acc = accuracy(pred, y_test)\n",
    "    print(\"Acurácia final com MLP sobre o conjunto de teste = \" + \"%.4f\" % acc)\n",
    "        "
   ]
  },
  {
   "cell_type": "markdown",
   "metadata": {},
   "source": [
    "## Características do conjunto de teste ##\n",
    "\n",
    "A seguir vemos a quantidade de exemplos de cada classe no conjunto de teste."
   ]
  },
  {
   "cell_type": "code",
   "execution_count": 120,
   "metadata": {},
   "outputs": [
    {
     "name": "stdout",
     "output_type": "stream",
     "text": [
      "{0: 980, 1: 1135, 2: 1032, 3: 1010, 4: 982}\n"
     ]
    }
   ],
   "source": [
    "count_0 = np.count_nonzero(y_test == 0)\n",
    "count_1 = np.count_nonzero(y_test == 1)\n",
    "count_2 = np.count_nonzero(y_test == 2)\n",
    "count_3 = np.count_nonzero(y_test == 3)\n",
    "count_4 = np.count_nonzero(y_test == 4)\n",
    "print(\"{0: %d, 1: %d, 2: %d, 3: %d, 4: %d}\" % (count_0, count_1, count_2, count_3, count_4))    "
   ]
  },
  {
   "cell_type": "markdown",
   "metadata": {},
   "source": [
    "### Matriz de confusão ###\n",
    "A seguir podemos ver a matriz de confusão obtida usando o algoritmo de maior acurácia. \n",
    "(Obs: a função de cálculo e plotagem da matriz de confusão foi obtida no site do scikit-lear, link fonte descrito no código)"
   ]
  },
  {
   "cell_type": "code",
   "execution_count": 122,
   "metadata": {},
   "outputs": [
    {
     "name": "stdout",
     "output_type": "stream",
     "text": [
      "Normalized confusion matrix\n",
      "[[9.93e-01 0.00e+00 2.04e-03 5.10e-03 0.00e+00]\n",
      " [0.00e+00 9.70e-01 1.23e-02 1.67e-02 8.81e-04]\n",
      " [3.78e-02 9.69e-04 9.26e-01 2.42e-02 1.07e-02]\n",
      " [1.09e-02 2.97e-03 2.67e-02 9.54e-01 4.95e-03]\n",
      " [1.12e-02 3.05e-03 1.43e-02 2.04e-03 9.69e-01]]\n"
     ]
    },
    {
     "data": {
      "image/png": "[encoded data removed]",
      "text/plain": [
       "<Figure size 432x288 with 2 Axes>"
      ]
     },
     "metadata": {
      "needs_background": "light"
     },
     "output_type": "display_data"
    }
   ],
   "source": [
    "import seaborn as sn\n",
    "import pandas as pd\n",
    "\n",
    "#codigo obtido em \n",
    "#https://scikit-learn.org/stable/auto_examples/model_selection/plot_confusion_matrix.html#sphx-glr-download-auto-examples-model-selection-plot-confusion-matrix-py\n",
    "from sklearn import svm, datasets\n",
    "from sklearn.model_selection import train_test_split\n",
    "from sklearn.metrics import confusion_matrix\n",
    "from sklearn.utils.multiclass import unique_labels\n",
    "\n",
    "def plot_confusion_matrix(y_true, y_pred, classes,\n",
    "                          normalize=False,\n",
    "                          title=None,\n",
    "                          cmap=plt.cm.Blues):\n",
    "    \"\"\"\n",
    "    This function prints and plots the confusion matrix.\n",
    "    Normalization can be applied by setting `normalize=True`.\n",
    "    \"\"\"\n",
    "    if not title:\n",
    "        if normalize:\n",
    "            title = 'Normalized confusion matrix'\n",
    "        else:\n",
    "            title = 'Confusion matrix, without normalization'\n",
    "\n",
    "    # Compute confusion matrix\n",
    "    cm = confusion_matrix(y_true, y_pred)\n",
    "    # Only use the labels that appear in the data\n",
    "    classes = classes[unique_labels(y_true, y_pred)]\n",
    "    if normalize:\n",
    "        cm = cm.astype('float') / cm.sum(axis=1)[:, np.newaxis]\n",
    "        print(\"Normalized confusion matrix\")\n",
    "    else:\n",
    "        print('Confusion matrix, without normalization')\n",
    "\n",
    "    print(cm)\n",
    "\n",
    "    fig, ax = plt.subplots()\n",
    "    im = ax.imshow(cm, interpolation='nearest', cmap=cmap)\n",
    "    ax.figure.colorbar(im, ax=ax)\n",
    "    # We want to show all ticks...\n",
    "    ax.set(xticks=np.arange(cm.shape[1]),\n",
    "           yticks=np.arange(cm.shape[0]),\n",
    "           # ... and label them with the respective list entries\n",
    "           xticklabels=classes, yticklabels=classes,\n",
    "           title=title,\n",
    "           ylabel='True label',\n",
    "           xlabel='Predicted label')\n",
    "\n",
    "    # Rotate the tick labels and set their alignment.\n",
    "    plt.setp(ax.get_xticklabels(), rotation=45, ha=\"right\",\n",
    "             rotation_mode=\"anchor\")\n",
    "\n",
    "    # Loop over data dimensions and create text annotations.\n",
    "    fmt = '.2f' if normalize else 'd'\n",
    "    thresh = cm.max() / 2.\n",
    "    for i in range(cm.shape[0]):\n",
    "        for j in range(cm.shape[1]):\n",
    "            ax.text(j, i, format(cm[i, j], fmt),\n",
    "                    ha=\"center\", va=\"center\",\n",
    "                    color=\"white\" if cm[i, j] > thresh else \"black\")\n",
    "    fig.tight_layout()\n",
    "    return ax\n",
    "\n",
    "\n",
    "np.set_printoptions(precision=2)\n",
    "\n",
    "# Plot normalized confusion matrix\n",
    "plot_confusion_matrix(y_test.astype('int'), pred.astype('int'), classes=np.array([0, 1, 2, 3, 4]), normalize=True,\n",
    "                      title='Normalized confusion matrix')\n",
    "\n",
    "plt.show()"
   ]
  },
  {
   "cell_type": "markdown",
   "metadata": {},
   "source": [
    "A classificação foi eficiente (>0.9) para todas as classes. Sendo a classe $2$ a que se obteve uma acurácia um pouco menor."
   ]
  },
  {
   "cell_type": "markdown",
   "metadata": {},
   "source": [
    "[1]: François Chollet and others, Keras, https://keras.io, 2015\n",
    "\n",
    "[2]: Yaser S Abu-Mostafa, Malik Magdon-Ismail, and Hsuan-Tien Lin, _Learning from Data_, 2012\n"
   ]
  },
  {
   "cell_type": "code",
   "execution_count": null,
   "metadata": {},
   "outputs": [],
   "source": []
  }
 ],
 "metadata": {
  "kernelspec": {
   "display_name": "Python 3",
   "language": "python",
   "name": "python3"
  },
  "language_info": {
   "codemirror_mode": {
    "name": "ipython",
    "version": 3
   },
   "file_extension": ".py",
   "mimetype": "text/x-python",
   "name": "python",
   "nbconvert_exporter": "python",
   "pygments_lexer": "ipython3",
   "version": "3.6.4"
  }
 },
 "nbformat": 4,
 "nbformat_minor": 2
}
